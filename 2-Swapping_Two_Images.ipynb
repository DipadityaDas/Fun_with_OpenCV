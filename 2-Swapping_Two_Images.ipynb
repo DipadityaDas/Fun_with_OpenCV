{
 "cells": [
  {
   "cell_type": "markdown",
   "id": "05a90ac1",
   "metadata": {},
   "source": [
    "# Swapping two images using Python OpenCV and NumPy Library\n",
    "## By Dipaditya Das"
   ]
  },
  {
   "cell_type": "markdown",
   "id": "f052f009",
   "metadata": {},
   "source": [
    "### Importing Libraries"
   ]
  },
  {
   "cell_type": "code",
   "execution_count": 61,
   "id": "f3045161",
   "metadata": {},
   "outputs": [],
   "source": [
    "import numpy as np\n",
    "import cv2 as cv"
   ]
  },
  {
   "cell_type": "markdown",
   "id": "38b857c9",
   "metadata": {},
   "source": [
    "### Storing Image1 in a variable & displaying it"
   ]
  },
  {
   "cell_type": "code",
   "execution_count": 62,
   "id": "c142028e",
   "metadata": {},
   "outputs": [],
   "source": [
    "image1 = cv.imread(\"image1.jpg\")\n",
    "cv.imshow(\"1st Image\", image1)\n",
    "cv.waitKey()\n",
    "cv.destroyAllWindows()"
   ]
  },
  {
   "cell_type": "markdown",
   "id": "70978083",
   "metadata": {},
   "source": [
    "### Storing Image2 in a variable & displaying it"
   ]
  },
  {
   "cell_type": "code",
   "execution_count": 63,
   "id": "2f863742",
   "metadata": {},
   "outputs": [],
   "source": [
    "image2 = cv.imread(\"image2.jpg\")\n",
    "cv.imshow(\"2nd Image\", image2)\n",
    "cv.waitKey()\n",
    "cv.destroyAllWindows()"
   ]
  },
  {
   "cell_type": "markdown",
   "id": "2fe54b8a",
   "metadata": {},
   "source": [
    "### Cropping 1st Image & showing only the photo frame"
   ]
  },
  {
   "cell_type": "code",
   "execution_count": 64,
   "id": "5bf55d73",
   "metadata": {},
   "outputs": [],
   "source": [
    "image1_cropped = image1[20:281,154:353]\n",
    "cv.imshow(\"1st Cropped Image\", image1_cropped)\n",
    "cv.waitKey()\n",
    "cv.destroyAllWindows()"
   ]
  },
  {
   "cell_type": "markdown",
   "id": "3fe87aa9",
   "metadata": {},
   "source": [
    "### Cropping 2nd Image & showing only the photo frame"
   ]
  },
  {
   "cell_type": "code",
   "execution_count": 65,
   "id": "740bc8df",
   "metadata": {},
   "outputs": [],
   "source": [
    "image2_cropped = image2[12:340,142:360]\n",
    "cv.imshow(\"2nd Cropped Image\", image2_cropped)\n",
    "cv.waitKey()\n",
    "cv.destroyAllWindows()"
   ]
  },
  {
   "cell_type": "markdown",
   "id": "f55ad164",
   "metadata": {},
   "source": [
    "### Resizing both cropped frames"
   ]
  },
  {
   "cell_type": "code",
   "execution_count": 66,
   "id": "1652badc",
   "metadata": {},
   "outputs": [],
   "source": [
    "image1_resized = cv.resize(image1_cropped,(image2_cropped.shape[1],image2_cropped.shape[0]))\n",
    "image2_resized = cv.resize(image2_cropped,(image1_cropped.shape[1],image1_cropped.shape[0]))"
   ]
  },
  {
   "cell_type": "markdown",
   "id": "331d9bdc",
   "metadata": {},
   "source": [
    "### Swapping the photo frame & Showing 1st updated image"
   ]
  },
  {
   "cell_type": "code",
   "execution_count": 67,
   "id": "98fdb9ba",
   "metadata": {},
   "outputs": [],
   "source": [
    "image1[20:281,154:353] = image2_resized\n",
    "cv.imshow(\"1st Image\", image1)\n",
    "cv.waitKey()\n",
    "cv.destroyAllWindows()"
   ]
  },
  {
   "cell_type": "markdown",
   "id": "3e78355a",
   "metadata": {},
   "source": [
    "### Swapping the photo frame & Showing 2nd updated image"
   ]
  },
  {
   "cell_type": "code",
   "execution_count": 68,
   "id": "5ed28bcb",
   "metadata": {},
   "outputs": [],
   "source": [
    "image2[12:340,142:360] = image1_resized\n",
    "cv.imshow(\"2nd Image\", image2)\n",
    "cv.waitKey()\n",
    "cv.destroyAllWindows()"
   ]
  },
  {
   "cell_type": "markdown",
   "id": "b6e9e688",
   "metadata": {},
   "source": [
    "### Saving both the new images"
   ]
  },
  {
   "cell_type": "code",
   "execution_count": 69,
   "id": "28341a49",
   "metadata": {},
   "outputs": [
    {
     "data": {
      "text/plain": [
       "True"
      ]
     },
     "execution_count": 69,
     "metadata": {},
     "output_type": "execute_result"
    }
   ],
   "source": [
    "cv.imwrite(\"image1_new.jpg\", image1)\n",
    "cv.imwrite(\"image2_new.jpg\", image2)"
   ]
  },
  {
   "cell_type": "markdown",
   "id": "8242a17a",
   "metadata": {},
   "source": [
    "## Thanking you for seeing my NoteBook"
   ]
  }
 ],
 "metadata": {
  "kernelspec": {
   "display_name": "Python 3",
   "language": "python",
   "name": "python3"
  },
  "language_info": {
   "codemirror_mode": {
    "name": "ipython",
    "version": 3
   },
   "file_extension": ".py",
   "mimetype": "text/x-python",
   "name": "python",
   "nbconvert_exporter": "python",
   "pygments_lexer": "ipython3",
   "version": "3.8.8"
  }
 },
 "nbformat": 4,
 "nbformat_minor": 5
}
