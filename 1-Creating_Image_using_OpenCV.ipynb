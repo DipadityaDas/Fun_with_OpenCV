{
 "cells": [
  {
   "cell_type": "markdown",
   "id": "8b737c49",
   "metadata": {},
   "source": [
    "# Creating Own Image using Python OpenCV and Numpy Library\n",
    "## By Dipaditya Das"
   ]
  },
  {
   "cell_type": "markdown",
   "id": "49d7e492",
   "metadata": {},
   "source": [
    "### Importing Libraries"
   ]
  },
  {
   "cell_type": "code",
   "execution_count": 102,
   "id": "4bae8e04",
   "metadata": {},
   "outputs": [],
   "source": [
    "import numpy as np\n",
    "import cv2 as cv\n",
    "import time"
   ]
  },
  {
   "cell_type": "markdown",
   "id": "681f33d4",
   "metadata": {},
   "source": [
    "\n",
    "### Creating a Blank Canvas"
   ]
  },
  {
   "cell_type": "code",
   "execution_count": 103,
   "id": "1e25db8c",
   "metadata": {},
   "outputs": [],
   "source": [
    "canvas = np.zeros((500,800,3))\n",
    "canvas = canvas.astype('uint8')"
   ]
  },
  {
   "cell_type": "markdown",
   "id": "1ee405a2",
   "metadata": {},
   "source": [
    "### Creating Circles on top of the Canvas"
   ]
  },
  {
   "cell_type": "code",
   "execution_count": 104,
   "id": "5e414273",
   "metadata": {},
   "outputs": [],
   "source": [
    "def creating_circles():\n",
    "    cv.circle(canvas, (115,  80), 50, (0, 255,   0), -1)\n",
    "    cv.circle(canvas, (205, 250), 80, (0, 255, 255), -1)\n",
    "    cv.circle(canvas, (40,  300), 65, (0,   0, 255), -1)\n",
    "    cv.circle(canvas, (10,   10), 55, (128, 0, 255), -1)\n",
    "    cv.circle(canvas, (250,  20), 65, (255, 0, 128), -1)"
   ]
  },
  {
   "cell_type": "markdown",
   "id": "2fa9a3c7",
   "metadata": {},
   "source": [
    "### Creating Lines from the above Circles"
   ]
  },
  {
   "cell_type": "code",
   "execution_count": 105,
   "id": "721e842c",
   "metadata": {},
   "outputs": [],
   "source": [
    "def creating_lines():\n",
    "    cv.line(canvas, (115,  80), (115, 500), (50, 220, 245), 12)\n",
    "    cv.line(canvas, (205, 250), (205, 500), (255,  0, 255), 20)\n",
    "    cv.line(canvas, (40,  300), (40,  500), (255,  0,   0), 13)\n",
    "    cv.line(canvas, (10,   10), (10,  500), (0,    0, 255), 12)\n",
    "    cv.line(canvas, (250,  20), (250, 500), (0,  128, 128), 15)"
   ]
  },
  {
   "cell_type": "markdown",
   "id": "1bcc97a4",
   "metadata": {},
   "source": [
    "### Creating a Figure in the Canvas"
   ]
  },
  {
   "cell_type": "code",
   "execution_count": 106,
   "id": "4ea54d50",
   "metadata": {},
   "outputs": [],
   "source": [
    "def creating_figure():\n",
    "    cv.circle(canvas, (600, 150), 50, (0, 255, 255), -1)\n",
    "    cv.line(canvas, (600, 150), (600, 320), (0,255,255), 10)\n",
    "    cv.line(canvas, (600, 250), (660, 200), (0,255,255), 10)\n",
    "    cv.line(canvas, (600, 250), (540, 200), (0,255,255), 10)\n",
    "    cv.line(canvas, (600, 320), (640, 420), (0,255,255), 10)\n",
    "    cv.line(canvas, (600, 320), (560, 420), (0,255,255), 10)"
   ]
  },
  {
   "cell_type": "markdown",
   "id": "87476cd5",
   "metadata": {},
   "source": [
    "### Creating Caption"
   ]
  },
  {
   "cell_type": "code",
   "execution_count": 107,
   "id": "69183b3c",
   "metadata": {},
   "outputs": [],
   "source": [
    "def caption():\n",
    "    font = cv.FONT_HERSHEY_SIMPLEX\n",
    "    cv.putText(canvas,'Hi Everyone!!!', (300, 100),font, 0.8, (255, 0, 255), 2, cv.LINE_AA)\n",
    "    cv.putText(canvas,'I am Dipaditya.', (300, 140),font, 0.8, (255, 0, 255), 2, cv.LINE_AA)\n",
    "    cv.putText(canvas,'Stay Safe!!', (300, 180),font, 0.8, (255, 0, 255), 2, cv.LINE_AA)\n",
    "    cv.putText(canvas,'Wear Mask!!', (300, 220),font, 0.8, (255, 0, 255), 2, cv.LINE_AA)"
   ]
  },
  {
   "cell_type": "markdown",
   "id": "26ec3e18",
   "metadata": {},
   "source": [
    "### Saving the Artwork in a Single PNG file"
   ]
  },
  {
   "cell_type": "code",
   "execution_count": 108,
   "id": "1bccfa05",
   "metadata": {},
   "outputs": [],
   "source": [
    "def save_artwork():\n",
    "    cv.imwrite(\"Artwork.png\", canvas)"
   ]
  },
  {
   "cell_type": "markdown",
   "id": "e9b728ec",
   "metadata": {},
   "source": [
    "### Running all the Functions"
   ]
  },
  {
   "cell_type": "code",
   "execution_count": 109,
   "id": "388f3916",
   "metadata": {},
   "outputs": [],
   "source": [
    "creating_circles()\n",
    "creating_lines()\n",
    "creating_figure()\n",
    "caption()\n",
    "cv.imshow(\"Artwork Created by Dipaditya using OpenCV\", canvas)\n",
    "if cv.waitKey() == 13:\n",
    "    cv.destroyAllWindows()\n",
    "save_artwork()"
   ]
  },
  {
   "cell_type": "markdown",
   "id": "15463379",
   "metadata": {},
   "source": [
    "## Thank You for Seeing this Notebook"
   ]
  }
 ],
 "metadata": {
  "kernelspec": {
   "display_name": "Python 3.7.6 64-bit ('base': conda)",
   "language": "python",
   "name": "python37664bitbaseconda11797ebd02974b01a31861272e59e10d"
  },
  "language_info": {
   "codemirror_mode": {
    "name": "ipython",
    "version": 3
   },
   "file_extension": ".py",
   "mimetype": "text/x-python",
   "name": "python",
   "nbconvert_exporter": "python",
   "pygments_lexer": "ipython3",
   "version": "3.8.8"
  }
 },
 "nbformat": 4,
 "nbformat_minor": 5
}
