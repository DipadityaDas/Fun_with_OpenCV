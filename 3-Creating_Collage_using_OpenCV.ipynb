{
 "cells": [
  {
   "cell_type": "markdown",
   "id": "ad75b164",
   "metadata": {},
   "source": [
    "# Creating a Collage of two images using Python OpenCV and NumPy Library\n",
    "## By Dipaditya Das"
   ]
  },
  {
   "cell_type": "markdown",
   "id": "1524ae2b",
   "metadata": {},
   "source": [
    "### Importing Libraries"
   ]
  },
  {
   "cell_type": "code",
   "execution_count": 16,
   "id": "bb8809a1",
   "metadata": {},
   "outputs": [],
   "source": [
    "import numpy as np\n",
    "import cv2 as cv"
   ]
  },
  {
   "cell_type": "markdown",
   "id": "533eb1d5",
   "metadata": {},
   "source": [
    "### Showing 1st Image using Cv2"
   ]
  },
  {
   "cell_type": "code",
   "execution_count": 17,
   "id": "0635627d",
   "metadata": {},
   "outputs": [],
   "source": [
    "soldier = cv.imread(\"winter_soldier.png\")\n",
    "cv.imshow(\"Winter Soldier\", soldier)\n",
    "cv.waitKey()\n",
    "cv.destroyAllWindows()"
   ]
  },
  {
   "cell_type": "markdown",
   "id": "ff90b0de",
   "metadata": {},
   "source": [
    "### Showing 2nd Image using Cv2"
   ]
  },
  {
   "cell_type": "code",
   "execution_count": 18,
   "id": "79293138",
   "metadata": {},
   "outputs": [],
   "source": [
    "falcon = cv.imread(\"captain_america.png\")\n",
    "cv.imshow(\"Captain America\", falcon)\n",
    "cv.waitKey()\n",
    "cv.destroyAllWindows()"
   ]
  },
  {
   "cell_type": "markdown",
   "id": "8cc9c3bc",
   "metadata": {},
   "source": [
    "### Creating Horizontal Collage"
   ]
  },
  {
   "cell_type": "code",
   "execution_count": 19,
   "id": "10508cec",
   "metadata": {},
   "outputs": [],
   "source": [
    "collage = np.hstack((soldier, falcon))\n",
    "cv.imshow(\"We are Co-Workers !!!! Do You UnderStand ^_^\", collage)\n",
    "cv.waitKey()\n",
    "cv.destroyAllWindows()"
   ]
  },
  {
   "cell_type": "markdown",
   "id": "aa852acf",
   "metadata": {},
   "source": [
    "### Creating Vertical Collage"
   ]
  },
  {
   "cell_type": "code",
   "execution_count": 21,
   "id": "bc4db823",
   "metadata": {},
   "outputs": [],
   "source": [
    "collage = np.vstack((soldier, falcon))\n",
    "cv.imshow(\"We are Co-Workers !!!!\", collage)\n",
    "cv.waitKey()\n",
    "cv.destroyAllWindows()"
   ]
  },
  {
   "cell_type": "markdown",
   "id": "586224f4",
   "metadata": {},
   "source": [
    "### Saving Collage"
   ]
  },
  {
   "cell_type": "code",
   "execution_count": 22,
   "id": "1bb9e68d",
   "metadata": {
    "scrolled": true
   },
   "outputs": [
    {
     "data": {
      "text/plain": [
       "True"
      ]
     },
     "execution_count": 22,
     "metadata": {},
     "output_type": "execute_result"
    }
   ],
   "source": [
    "cv.imwrite(\"falcon_soldier.jpg\", collage)"
   ]
  },
  {
   "cell_type": "markdown",
   "id": "41afd4f8",
   "metadata": {},
   "source": [
    "## Thank You For Visiting my NoteBook (✿◕‿◕✿)"
   ]
  },
  {
   "cell_type": "code",
   "execution_count": null,
   "id": "ebe720c6",
   "metadata": {},
   "outputs": [],
   "source": []
  }
 ],
 "metadata": {
  "kernelspec": {
   "display_name": "Python 3",
   "language": "python",
   "name": "python3"
  },
  "language_info": {
   "codemirror_mode": {
    "name": "ipython",
    "version": 3
   },
   "file_extension": ".py",
   "mimetype": "text/x-python",
   "name": "python",
   "nbconvert_exporter": "python",
   "pygments_lexer": "ipython3",
   "version": "3.8.8"
  }
 },
 "nbformat": 4,
 "nbformat_minor": 5
}
